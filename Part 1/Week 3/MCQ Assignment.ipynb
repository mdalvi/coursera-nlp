{
 "cells": [
  {
   "cell_type": "markdown",
   "id": "70c5c761",
   "metadata": {},
   "source": [
    "# MCQ Assignment"
   ]
  },
  {
   "cell_type": "code",
   "execution_count": 1,
   "id": "dfd38d5e",
   "metadata": {},
   "outputs": [],
   "source": [
    "import numpy as np"
   ]
  },
  {
   "cell_type": "code",
   "execution_count": 2,
   "id": "740c3a09",
   "metadata": {},
   "outputs": [
    {
     "data": {
      "text/plain": [
       "5.916079783099616"
      ]
     },
     "execution_count": 2,
     "metadata": {},
     "output_type": "execute_result"
    }
   ],
   "source": [
    "a = np.array([1,2,3])\n",
    "b = np.array([4,7,2])\n",
    "np.linalg.norm(a-b)"
   ]
  },
  {
   "cell_type": "code",
   "execution_count": 4,
   "id": "ec3e447f",
   "metadata": {},
   "outputs": [],
   "source": [
    "c = np.array([3,1,4])"
   ]
  },
  {
   "cell_type": "code",
   "execution_count": 5,
   "id": "5994bf61",
   "metadata": {},
   "outputs": [
    {
     "data": {
      "text/plain": [
       "(2.449489742783178, 6.4031242374328485)"
      ]
     },
     "execution_count": 5,
     "metadata": {},
     "output_type": "execute_result"
    }
   ],
   "source": [
    "np.linalg.norm(a-c), np.linalg.norm(b-c)"
   ]
  },
  {
   "cell_type": "markdown",
   "id": "95ffe0a1",
   "metadata": {},
   "source": [
    "---------------\n"
   ]
  },
  {
   "cell_type": "code",
   "execution_count": 11,
   "id": "2c3ef6f7",
   "metadata": {},
   "outputs": [],
   "source": [
    "a = np.array([1,0,-1])\n",
    "b = np.array([2,8,1])"
   ]
  },
  {
   "cell_type": "code",
   "execution_count": 12,
   "id": "352ce5ea",
   "metadata": {},
   "outputs": [
    {
     "data": {
      "text/plain": [
       "0.1203858530857692"
      ]
     },
     "execution_count": 12,
     "metadata": {},
     "output_type": "execute_result"
    }
   ],
   "source": [
    "np.dot(a,b) / np.linalg.norm(a-b)"
   ]
  },
  {
   "cell_type": "code",
   "execution_count": 21,
   "id": "43d3a01f",
   "metadata": {},
   "outputs": [],
   "source": [
    "import math\n",
    "\"\"\"\n",
    "https://stackoverflow.com/questions/2827393/angles-between-two-n-dimensional-vectors-in-python\n",
    "\"\"\"\n",
    "\n",
    "def dotproduct(v1, v2):\n",
    "    return sum((a*b) for a, b in zip(v1, v2))\n",
    "\n",
    "def length(v):\n",
    "    return math.sqrt(dotproduct(v, v))\n",
    "\n",
    "def consine_score(v1, v2):\n",
    "    return dotproduct(v1, v2) / (length(v1) * length(v2))"
   ]
  },
  {
   "cell_type": "code",
   "execution_count": 22,
   "id": "b19dc8f2",
   "metadata": {},
   "outputs": [
    {
     "data": {
      "text/plain": [
       "0.08512565307587484"
      ]
     },
     "execution_count": 22,
     "metadata": {},
     "output_type": "execute_result"
    }
   ],
   "source": [
    "consine_score(a, b)"
   ]
  },
  {
   "cell_type": "markdown",
   "id": "73ab2c1a",
   "metadata": {},
   "source": [
    "-----------"
   ]
  },
  {
   "cell_type": "code",
   "execution_count": 23,
   "id": "4acdb74e",
   "metadata": {},
   "outputs": [],
   "source": [
    "usa = np.array([5,6])\n",
    "washington = np.array([10,5])\n",
    "turkey = np.array([3,1])\n",
    "ankara = np.array([9,1])\n",
    "russia = np.array([5,5])\n",
    "japan = np.array([4,3])"
   ]
  },
  {
   "cell_type": "code",
   "execution_count": 25,
   "id": "ded587e0",
   "metadata": {},
   "outputs": [
    {
     "data": {
      "text/plain": [
       "(0.7211047102874315, 0.9778024140774093, 0.7808688094430302, 0.861365903383803)"
      ]
     },
     "execution_count": 25,
     "metadata": {},
     "output_type": "execute_result"
    }
   ],
   "source": [
    "consine_score(ankara, usa), consine_score(ankara, turkey), consine_score(ankara, russia), consine_score(ankara, japan)"
   ]
  },
  {
   "cell_type": "code",
   "execution_count": null,
   "id": "e7d53bc4",
   "metadata": {},
   "outputs": [],
   "source": []
  }
 ],
 "metadata": {
  "kernelspec": {
   "display_name": "Python 3",
   "language": "python",
   "name": "python3"
  },
  "language_info": {
   "codemirror_mode": {
    "name": "ipython",
    "version": 3
   },
   "file_extension": ".py",
   "mimetype": "text/x-python",
   "name": "python",
   "nbconvert_exporter": "python",
   "pygments_lexer": "ipython3",
   "version": "3.6.13"
  }
 },
 "nbformat": 4,
 "nbformat_minor": 5
}
